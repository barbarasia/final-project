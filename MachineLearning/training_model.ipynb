{
 "cells": [
  {
   "cell_type": "code",
   "execution_count": 2,
   "metadata": {},
   "outputs": [],
   "source": [
    "%matplotlib inline\n",
    "import h5py\n",
    "import os\n",
    "import matplotlib.pyplot as plt\n",
    "import numpy as np\n",
    "import pandas as pd\n",
    "import cv2\n",
    "import tensorflow as tf\n",
    "from tensorflow.keras.models import Sequential, Model\n",
    "from tensorflow.keras.layers import Conv2D, MaxPooling2D, Flatten, Dense, Dropout, Activation, Input\n",
    "from tensorflow.keras.optimizers import SGD\n",
    "from sklearn.preprocessing import LabelEncoder, OneHotEncoder, LabelBinarizer\n",
    "\n",
    "from tensorflow.keras.applications import ResNet50\n",
    "from tensorflow.keras.applications import InceptionV3\n",
    "from tensorflow.keras.applications import Xception  # TensorFlow ONLY\n",
    "from tensorflow.keras.applications import VGG16, VGG19, InceptionV3\n",
    "from tensorflow.keras.applications import imagenet_utils\n",
    "from tensorflow.keras.applications.inception_v3 import preprocess_input\n",
    "from tensorflow.keras.preprocessing.image import img_to_array, load_img\n",
    "from tensorflow.keras.preprocessing.image import ImageDataGenerator\n",
    "from tensorflow.keras.callbacks import ModelCheckpoint, LearningRateScheduler, TensorBoard, EarlyStopping\n",
    "\n",
    "import warnings\n",
    "warnings.filterwarnings('ignore')"
   ]
  },
  {
   "cell_type": "code",
   "execution_count": 3,
   "metadata": {},
   "outputs": [],
   "source": [
    "models_filename = '/Users/Barbara/Desktop/Ironhack/Final_Project/food-101/v8-vgg16-model-1/v8_vgg16_model_1.h5'\n",
    "image_dir = '/Users/Barbara/Desktop/Ironhack/Final_Project/food-101/food-101/images'\n",
    "image_size = (224, 224)\n",
    "batch_size = 16\n",
    "epochs = 80"
   ]
  },
  {
   "cell_type": "code",
   "execution_count": 4,
   "metadata": {},
   "outputs": [
    {
     "name": "stdout",
     "output_type": "stream",
     "text": [
      "Found 101000 images belonging to 101 classes.\n"
     ]
    }
   ],
   "source": [
    "# 5gb of images won't fit in my memory. use datagenerator to go across all images.\n",
    "train_datagen = ImageDataGenerator(\n",
    "rescale = 1./255,\n",
    "horizontal_flip = False,\n",
    "fill_mode = \"nearest\",\n",
    "zoom_range = 0,\n",
    "width_shift_range = 0,\n",
    "height_shift_range=0,\n",
    "rotation_range=0)\n",
    "\n",
    "train_generator = train_datagen.flow_from_directory(\n",
    "image_dir,\n",
    "target_size = (image_size[0], image_size[1]),\n",
    "batch_size = batch_size, \n",
    "class_mode = \"categorical\")\n",
    "\n",
    "num_of_classes = len(train_generator.class_indices)"
   ]
  },
  {
   "cell_type": "code",
   "execution_count": 5,
   "metadata": {},
   "outputs": [
    {
     "name": "stderr",
     "output_type": "stream",
     "text": [
      "2024-07-08 17:01:37.194666: I metal_plugin/src/device/metal_device.cc:1154] Metal device set to: Apple M3 Pro\n",
      "2024-07-08 17:01:37.194705: I metal_plugin/src/device/metal_device.cc:296] systemMemory: 18.00 GB\n",
      "2024-07-08 17:01:37.194719: I metal_plugin/src/device/metal_device.cc:313] maxCacheSize: 6.00 GB\n",
      "2024-07-08 17:01:37.194945: I tensorflow/core/common_runtime/pluggable_device/pluggable_device_factory.cc:305] Could not identify NUMA node of platform GPU ID 0, defaulting to 0. Your kernel may not have been built with NUMA support.\n",
      "2024-07-08 17:01:37.194965: I tensorflow/core/common_runtime/pluggable_device/pluggable_device_factory.cc:271] Created TensorFlow device (/job:localhost/replica:0/task:0/device:GPU:0 with 0 MB memory) -> physical PluggableDevice (device: 0, name: METAL, pci bus id: <undefined>)\n"
     ]
    }
   ],
   "source": [
    "model = VGG16(weights=None, include_top=False, input_shape=(image_size[0], image_size[1], 3))\n",
    "\n",
    "#Adding custom Layers \n",
    "x = model.output\n",
    "x = Flatten()(x)\n",
    "x = Dense(101*2, activation=\"relu\")(x)\n",
    "x = Dense(101*2, activation=\"relu\")(x)\n",
    "predictions = Dense(101, activation=\"softmax\")(x)\n",
    "model_final = Model(input=model.input, output=predictions)\n",
    "model_final.compile(loss=\"categorical_crossentropy\", optimizer='adam', metrics=[\"accuracy\"])\n",
    "model_final.load_weights(models_filename)"
   ]
  },
  {
   "cell_type": "code",
   "execution_count": null,
   "metadata": {},
   "outputs": [],
   "source": [
    "preds = model_final.evaluate_generator(train_generator, steps=800, workers=8, use_multiprocessing=True)\n",
    "preds"
   ]
  },
  {
   "cell_type": "code",
   "execution_count": null,
   "metadata": {},
   "outputs": [],
   "source": [
    "# routine for human evaluation - use the generator so we can see how well it can predict\n",
    "for n in range(100):\n",
    "    _ = train_generator.next()\n",
    "    image, classifier = (_[0][0],_[1][0]) # take the first image from the batch\n",
    "    index = np.argmax(classifier)\n",
    "    answer = list(train_generator.class_indices.keys())[index]\n",
    "    predicted = model_final.predict(np.asarray([image]))\n",
    "    predicted_answer_index = np.argmax(predicted[0])\n",
    "    predicted_answer = list(train_generator.class_indices.keys())[predicted_answer_index]\n",
    "\n",
    "    plt.imshow(image)\n",
    "    plt.show()\n",
    "\n",
    "    print('correct answer is: ', answer)\n",
    "    print()\n",
    "    print('CNN thinks it''s:', predicted_answer)"
   ]
  }
 ],
 "metadata": {
  "kernelspec": {
   "display_name": "tensorflow_macos",
   "language": "python",
   "name": "python3"
  },
  "language_info": {
   "codemirror_mode": {
    "name": "ipython",
    "version": 3
   },
   "file_extension": ".py",
   "mimetype": "text/x-python",
   "name": "python",
   "nbconvert_exporter": "python",
   "pygments_lexer": "ipython3",
   "version": "3.9.19"
  }
 },
 "nbformat": 4,
 "nbformat_minor": 2
}
