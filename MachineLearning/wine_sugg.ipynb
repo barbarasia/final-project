{
 "cells": [
  {
   "cell_type": "code",
   "execution_count": 1,
   "metadata": {},
   "outputs": [
    {
     "name": "stdout",
     "output_type": "stream",
     "text": [
      "      Food Category                                Wine Recommendation  \\\n",
      "0             Bread  White wines such as Chardonnay (dry, medium ac...   \n",
      "1     Dairy product  White wines like Riesling (off-dry, high acidi...   \n",
      "2           Dessert  Sweet wines like Sauternes (sweet, low acidity...   \n",
      "3               Egg  Sparkling wines like Champagne (dry, high acid...   \n",
      "4        Fried food  Sparkling wines such as Cava (dry, high acidit...   \n",
      "5              Meat  Red wines like Cabernet Sauvignon (dry, medium...   \n",
      "6     Noodles-Pasta  Red wines such as Chianti (dry, high acidity) ...   \n",
      "7              Rice  White wines like Pinot Grigio (dry, high acidi...   \n",
      "8           Seafood  White wines such as Chablis (dry, high acidity...   \n",
      "9              Soup  Sherry wines like Fino (dry, low acidity) from...   \n",
      "10  Vegetable-Fruit  White wines such as Sauvignon Blanc (dry, high...   \n",
      "\n",
      "                                            Image URL  \n",
      "0   /Users/Barbara/Downloads/wine_images/Chardonna...  \n",
      "1   /Users/Barbara/Downloads/wine_images/Riesling.jpg  \n",
      "2   /Users/Barbara/Downloads/wine_images/Sauternes...  \n",
      "3   /Users/Barbara/Downloads/wine_images/Champagne...  \n",
      "4       /Users/Barbara/Downloads/wine_images/Cava.jpg  \n",
      "5   /Users/Barbara/Downloads/wine_images/Cabernet-...  \n",
      "6    /Users/Barbara/Downloads/wine_images/Chianti.jpg  \n",
      "7   /Users/Barbara/Downloads/wine_images/Pinot-Gri...  \n",
      "8    /Users/Barbara/Downloads/wine_images/Chablis.jpg  \n",
      "9   /Users/Barbara/Downloads/wine_images/Palomino-...  \n",
      "10  /Users/Barbara/Downloads/wine_images/Sauvignon...  \n"
     ]
    }
   ],
   "source": [
    "import pandas as pd\n",
    "\n",
    "# Define the data\n",
    "data = {\n",
    "    'Food Category': ['Bread', 'Dairy product', 'Dessert', 'Egg', 'Fried food', 'Meat', \n",
    "                      'Noodles-Pasta', 'Rice', 'Seafood', 'Soup', 'Vegetable-Fruit'],\n",
    "    'Wine Recommendation': [\n",
    "        \"White wines such as Chardonnay (dry, medium acidity) from Burgundy, France or Sauvignon Blanc (dry, high acidity) from Napa Valley, USA.\",\n",
    "        \"White wines like Riesling (off-dry, high acidity) from Mosel, Germany, or a crisp Chablis (dry, high acidity) from Burgundy, France.\",\n",
    "        \"Sweet wines like Sauternes (sweet, low acidity) from Bordeaux, France, or a late harvest Riesling (sweet, high acidity) from Alsace, France.\",\n",
    "        \"Sparkling wines like Champagne (dry, high acidity) from Champagne, France, or a light Prosecco (dry, medium acidity) from Veneto, Italy.\",\n",
    "        \"Sparkling wines such as Cava (dry, high acidity) from Catalonia, Spain, or a light and crisp Sauvignon Blanc (dry, high acidity) from Marlborough, New Zealand.\",\n",
    "        \"Red wines like Cabernet Sauvignon (dry, medium acidity) from Napa Valley, USA, or a robust Malbec (dry, low acidity) from Mendoza, Argentina.\",\n",
    "        \"Red wines such as Chianti (dry, high acidity) from Tuscany, Italy, or a Barbera (dry, high acidity) from Piedmont, Italy.\",\n",
    "        \"White wines like Pinot Grigio (dry, high acidity) from Veneto, Italy, or a dry Riesling (dry, high acidity) from Alsace, France.\",\n",
    "        \"White wines such as Chablis (dry, high acidity) from Burgundy, France, or a Sauvignon Blanc (dry, high acidity) from Marlborough, New Zealand.\",\n",
    "        \"Sherry wines like Fino (dry, low acidity) from Jerez, Spain, or a light Pinot Grigio (dry, high acidity) from Veneto, Italy.\",\n",
    "        \"White wines such as Sauvignon Blanc (dry, high acidity) from Marlborough, New Zealand, or a dry Riesling (dry, high acidity) from Mosel, Germany.\"\n",
    "    ],\n",
    "    'Image URL': [\n",
    "        \"/Users/Barbara/Downloads/wine_images/Chardonnay.jpg\",\n",
    "        \"/Users/Barbara/Downloads/wine_images/Riesling.jpg\",\n",
    "        \"/Users/Barbara/Downloads/wine_images/Sauternes.jpg\",\n",
    "        \"/Users/Barbara/Downloads/wine_images/Champagne.jpg\",\n",
    "        \"/Users/Barbara/Downloads/wine_images/Cava.jpg\",\n",
    "        \"/Users/Barbara/Downloads/wine_images/Cabernet-Sauvignon.jpg\",\n",
    "        \"/Users/Barbara/Downloads/wine_images/Chianti.jpg\",\n",
    "        \"/Users/Barbara/Downloads/wine_images/Pinot-Gris.jpg\",\n",
    "        \"/Users/Barbara/Downloads/wine_images/Chablis.jpg\",\n",
    "        \"/Users/Barbara/Downloads/wine_images/Palomino-Fino.jpg\",\n",
    "        \"/Users/Barbara/Downloads/wine_images/Sauvignon-Blanc.jpg\"\n",
    "    ]\n",
    "}\n",
    "\n",
    "# Convert to DataFrame\n",
    "df_wine_recommendations = pd.DataFrame(data)\n",
    "\n",
    "# Save DataFrame to CSV\n",
    "df_wine_recommendations.to_csv('df_wine_suggestions.csv', index=False)\n",
    "\n",
    "# Print the DataFrame\n",
    "print(df_wine_recommendations)"
   ]
  },
  {
   "cell_type": "code",
   "execution_count": 2,
   "metadata": {},
   "outputs": [],
   "source": [
    "\n",
    "df.to_csv('df_wine_suggestions.csv', index=False)"
   ]
  }
 ],
 "metadata": {
  "kernelspec": {
   "display_name": "Python 3",
   "language": "python",
   "name": "python3"
  },
  "language_info": {
   "codemirror_mode": {
    "name": "ipython",
    "version": 3
   },
   "file_extension": ".py",
   "mimetype": "text/x-python",
   "name": "python",
   "nbconvert_exporter": "python",
   "pygments_lexer": "ipython3",
   "version": "3.9.6"
  }
 },
 "nbformat": 4,
 "nbformat_minor": 2
}
