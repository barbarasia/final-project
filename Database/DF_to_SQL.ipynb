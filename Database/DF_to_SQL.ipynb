{
 "cells": [
  {
   "cell_type": "code",
   "execution_count": 2,
   "metadata": {},
   "outputs": [],
   "source": [
    "from sqlalchemy import create_engine, text\n",
    "import pandas as pd\n",
    "import pymysql\n",
    "import os\n",
    "import urllib.parse\n",
    "\n",
    "# Define your MySQL connection parameters\n",
    "pw = os.getenv('sql_key')\n",
    "pw = urllib.parse.quote_plus(pw)  \n",
    "connection_string = 'mysql+pymysql://root:' + pw + '@localhost:3306/'\n",
    "\n",
    "# Create the engine\n",
    "engine = create_engine(connection_string)\n",
    "\n",
    "# Establish a raw connection to MySQL using pymysql\n",
    "with engine.connect().execution_options(autocommit=True) as con:\n",
    "    # Execute a raw SQL query to create the wine database\n",
    "    con.execute(text(\"CREATE DATABASE IF NOT EXISTS wine_schema\"))\n",
    "\n",
    "# Now, use the wine database for further operations\n",
    "connection_string_with_db = 'mysql+pymysql://root:' + pw + '@localhost:3306/TA'\n",
    "engine_with_db = create_engine(connection_string_with_db)\n",
    "\n"
   ]
  },
  {
   "cell_type": "code",
   "execution_count": null,
   "metadata": {},
   "outputs": [],
   "source": [
    "\n",
    "\n",
    "# Load  DataFrames from CSV\n",
    "alcohol_spending = pd.read_csv('/Users/Barbara/Desktop/Ironhack/Final_Project/final-project/EDA/cleaned_files/alcohol_spending.csv')\n",
    "conso_price = pd.read_csv('/Users/Barbara/Desktop/Ironhack/Final_Project/final-project/EDA/cleaned_files/conso_price.csv')\n",
    "consowine_global = pd.read_csv('/Users/Barbara/Desktop/Ironhack/Final_Project/final-project/EDA/cleaned_files/consowine_global.csv')\n",
    "consowine = pd.read_csv('/Users/Barbara/Desktop/Ironhack/Final_Project/final-project/EDA/cleaned_files/consowine.csv')\n",
    "production_price = pd.read_csv('/Users/Barbara/Desktop/Ironhack/Final_Project/final-project/EDA/cleaned_files/production_price.csv')\n",
    "regions_prod = pd.read_csv('/Users/Barbara/Desktop/Ironhack/Final_Project/final-project/EDA/cleaned_files/regions_prod.csv')\n",
    "wine_conso_eu = pd.read_csv('/Users/Barbara/Desktop/Ironhack/Final_Project/final-project/EDA/cleaned_files/wine_conso_eu.csv')\n",
    "\n",
    "# Write the DataFrame to the SQL table in the wine database\n",
    "alcohol_spending.to_sql(name='alcohol_spending', con=engine_with_db, schema='wine_schema',index=False, if_exists='replace')\n",
    "conso_price.to_sql(name='conso_price', con=engine_with_db, schema='wine_schema', index=False, if_exists='replace')\n",
    "consowine_global.to_sql(name='consowine_global', con=engine_with_db, schema='wine_schema',index=False, if_exists='replace')\n",
    "consowine.to_sql(name='consowine', con=engine_with_db, schema='wine_schema',index=False, if_exists='replace')\n",
    "production_price.to_sql(name='production_price', con=engine_with_db, schema='wine_schema',index=False, if_exists='replace')\n",
    "regions_prod.to_sql(name='regions_prod', con=engine_with_db, schema='wine_schema',index=False, if_exists='replace')\n",
    "wine_conso_eu.to_sql(name='wine_conso_eu', con=engine_with_db, schema='wine_schema',index=False, if_exists='replace')\n"
   ]
  },
  {
   "cell_type": "code",
   "execution_count": 6,
   "metadata": {},
   "outputs": [
    {
     "data": {
      "text/plain": [
       "2714"
      ]
     },
     "execution_count": 6,
     "metadata": {},
     "output_type": "execute_result"
    }
   ],
   "source": [
    "# api to SQL\n",
    "cleaned_api = pd.read_csv('/Users/Barbara/Desktop/Ironhack/Final_Project/final-project/API/cleaned_api.csv')\n",
    "cleaned_api.to_sql(name='cleaned_api', con=engine_with_db, schema='wine_schema',index=False, if_exists='replace')\n"
   ]
  },
  {
   "cell_type": "code",
   "execution_count": 3,
   "metadata": {},
   "outputs": [
    {
     "data": {
      "text/plain": [
       "100"
      ]
     },
     "execution_count": 3,
     "metadata": {},
     "output_type": "execute_result"
    }
   ],
   "source": [
    "web_scraping = pd.read_csv('/Users/Barbara/Desktop/Ironhack/Final_Project/final-project/Webscraping/vivino_scraping.csv')\n",
    "\n",
    "web_scraping.to_sql(name='vivino_scraped', con=engine_with_db, schema='wine_schema',index=False, if_exists='replace')\n"
   ]
  }
 ],
 "metadata": {
  "kernelspec": {
   "display_name": "Python 3",
   "language": "python",
   "name": "python3"
  },
  "language_info": {
   "codemirror_mode": {
    "name": "ipython",
    "version": 3
   },
   "file_extension": ".py",
   "mimetype": "text/x-python",
   "name": "python",
   "nbconvert_exporter": "python",
   "pygments_lexer": "ipython3",
   "version": "3.9.6"
  }
 },
 "nbformat": 4,
 "nbformat_minor": 2
}
